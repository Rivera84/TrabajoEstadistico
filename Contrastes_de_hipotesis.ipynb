{
 "nbformat": 4,
 "nbformat_minor": 2,
 "metadata": {
  "language_info": {
   "name": "python",
   "codemirror_mode": {
    "name": "ipython",
    "version": 3
   }
  },
  "orig_nbformat": 2,
  "file_extension": ".py",
  "mimetype": "text/x-python",
  "name": "python",
  "npconvert_exporter": "python",
  "pygments_lexer": "ipython3",
  "version": 3
 },
 "cells": [
  {
   "cell_type": "markdown",
   "metadata": {},
   "source": [
    "#   Los contrastes de hipótesis\n",
    "\n",
    "Una hipótesis estadística es una asunción relativa a una o varias poblaciones, que puede ser cierta o no. Las hipótesis estadísticas se pueden contrastar con la información extraída de las muestras y tanto si se aceptan como si se rechazan se puede cometer un error.\n",
    "\n",
    "<img src=\"https://camo.githubusercontent.com/b9eadd20514cd017d967ffc1ed74d37d3597d6c8/68747470733a2f2f312e62702e626c6f6773706f742e636f6d2f2d4c51686e4f6530705055672f55324956766d3268354f492f4141414141414141414b552f576b5a6b6a74534867526b2f73313630302f5469706f73636f6e747261737465732e706e67\">\n"
   ]
  }
 ]
}