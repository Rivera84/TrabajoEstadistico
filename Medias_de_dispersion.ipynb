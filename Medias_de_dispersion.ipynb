{
 "nbformat": 4,
 "nbformat_minor": 2,
 "metadata": {
  "language_info": {
   "name": "python",
   "codemirror_mode": {
    "name": "ipython",
    "version": 3
   },
   "version": "3.8.1-final"
  },
  "orig_nbformat": 2,
  "file_extension": ".py",
  "mimetype": "text/x-python",
  "name": "python",
  "npconvert_exporter": "python",
  "pygments_lexer": "ipython3",
  "version": 3,
  "kernelspec": {
   "name": "python38132bitf9170dd6138a44f280fe8b19167f5fc9",
   "display_name": "Python 3.8.1 32-bit"
  }
 },
 "cells": [
  {
   "cell_type": "code",
   "execution_count": 7,
   "metadata": {},
   "outputs": [],
   "source": [
    "import pandas as pd\n",
    "import numpy as np\n",
    "import statistics\n",
    "import scipy as sp"
   ]
  },
  {
   "cell_type": "markdown",
   "metadata": {},
   "source": [
    "#   Media de dispercion\n",
    "\n",
    "Parámetros estadísticos que indican como se alejan los datos respecto de la media aritmética. Sirven como indicador de la variabilidad de los datos. Las medidas de dispersión más utilizadas son el rango, la desviación estándar y la varianza.\n",
    "\n",
    "\n"
   ]
  },
  {
   "cell_type": "markdown",
   "metadata": {},
   "source": [
    "# La varianza\n",
    "\n",
    "Que es?\n",
    "\n",
    "Se conoce como varianza a la raíz cuadrada que se desprende de una desviación estándar, la cual permite que las industrias de manufactura encuentren precisión en el trabajo y producción y, al mismo tiempo, reduzcan el índice de errores.\n",
    "\n",
    "Esto sucede ya que la varianza toma los datos dispersos de la media y luego de medirlos le da valor a las variaciones y a las desviaciones y también contabiliza y asume los errores cometidos previniendo posibles errores.\n",
    "\n",
    "Así que, la varianza fue creada para determinar si las diferencias que existen entre medias de muestreo exponen las diferencias que hay entre los valores medios.\n",
    "\n",
    "Así se identifica el valor por medio de una raíz cuadrada, la cual permite saber cuán dificultoso es el margen de errores y realizar un plan específico y exitoso. Es por eso que la varianza es utilizada por las empresas e industrias como método de prevención y de visualización hacia el futuro. \n",
    "\n",
    "Formula:\n",
    "\n",
    "<img src=\"https://economipedia.com/wp-content/uploads/varianza-ampliada.jpg\">"
   ]
  },
  {
   "cell_type": "code",
   "execution_count": 4,
   "metadata": {},
   "outputs": [],
   "source": [
    "def random_num(num_inicial,num_final):\n",
    "    c=0\n",
    "    data=[]\n",
    "    while c<=100000:\n",
    "        \n",
    "        data.append(np.random.randint(num_inicial,num_final))\n",
    "        data1= {\"Edad\":data}\n",
    "        c+=1\n",
    "    return data1"
   ]
  },
  {
   "cell_type": "code",
   "execution_count": 8,
   "metadata": {},
   "outputs": [],
   "source": [
    "df= pd.DataFrame(random_num(18,60))"
   ]
  },
  {
   "cell_type": "code",
   "execution_count": 9,
   "metadata": {},
   "outputs": [
    {
     "data": {
      "text/html": "<div>\n<style scoped>\n    .dataframe tbody tr th:only-of-type {\n        vertical-align: middle;\n    }\n\n    .dataframe tbody tr th {\n        vertical-align: top;\n    }\n\n    .dataframe thead th {\n        text-align: right;\n    }\n</style>\n<table border=\"1\" class=\"dataframe\">\n  <thead>\n    <tr style=\"text-align: right;\">\n      <th></th>\n      <th>Edad</th>\n    </tr>\n  </thead>\n  <tbody>\n    <tr>\n      <th>0</th>\n      <td>32</td>\n    </tr>\n    <tr>\n      <th>1</th>\n      <td>38</td>\n    </tr>\n    <tr>\n      <th>2</th>\n      <td>22</td>\n    </tr>\n    <tr>\n      <th>3</th>\n      <td>32</td>\n    </tr>\n    <tr>\n      <th>4</th>\n      <td>45</td>\n    </tr>\n  </tbody>\n</table>\n</div>",
      "text/plain": "   Edad\n0    32\n1    38\n2    22\n3    32\n4    45"
     },
     "execution_count": 9,
     "metadata": {},
     "output_type": "execute_result"
    }
   ],
   "source": [
    "df.head()"
   ]
  },
  {
   "cell_type": "code",
   "execution_count": 12,
   "metadata": {},
   "outputs": [
    {
     "data": {
      "text/plain": "Edad    146.860648\ndtype: float64"
     },
     "execution_count": 12,
     "metadata": {},
     "output_type": "execute_result"
    }
   ],
   "source": [
    "# varianza\n",
    "np.var(df) \n",
    "np.var(df, 0) # varianza de cada columna"
   ]
  },
  {
   "cell_type": "markdown",
   "metadata": {},
   "source": [
    "# Desviacion Tipica\n",
    "\n",
    "Que es?\n",
    "La desviación típica se define como la raíz cuadrada de la varianza de la variable. Sirve principalmente para conocer la desviación que presentan los datos en su distribución respecto a la media aritmética de dicha distribución. Es decir, nos muestra una visión más acorde con la realidad en el momento de tomar las decisiones.\n",
    "\n",
    "Formula:\n",
    "\n",
    "<img src=\"https://economipedia.com/wp-content/uploads/Formula-Desviacion-Tipica.jpg\">\n",
    "\n"
   ]
  },
  {
   "cell_type": "code",
   "execution_count": 15,
   "metadata": {},
   "outputs": [
    {
     "data": {
      "text/plain": "Edad    12.118608\ndtype: float64"
     },
     "execution_count": 15,
     "metadata": {},
     "output_type": "execute_result"
    }
   ],
   "source": [
    "np.std(df)\n",
    "np.std(df, 0) # Desviación típica de cada columna\n",
    "\n",
    "\"\"\"\n",
    "std = df[\"nota\"].std(ddof=0)\n",
    "var = df[\"nota\"].var(ddof=0)\n",
    "assert(np.sqrt(var) == std)\n",
    "\"\"\""
   ]
  },
  {
   "cell_type": "markdown",
   "metadata": {},
   "source": [
    "# Coeficiente de variacion\n",
    "\n",
    "Que es?\n",
    "\n",
    "El coeficiente de variación es una medida que sirve para comparar entre dos muestras, cuál varía más y cuál es más estable. Es una simple división, de la desviación típica sobre la media, sin embargo, SciPy nos ofrece una función ya preparada.\n",
    "\n",
    "Formula:\n",
    "\n",
    "<img src=\"https://economipedia.com/wp-content/uploads/Coeficiente-de-variaci%C3%B3n-e1506596023111.jpg\">\n"
   ]
  },
  {
   "cell_type": "code",
   "execution_count": 16,
   "metadata": {},
   "outputs": [
    {
     "data": {
      "text/plain": "Edad    0.315206\ndtype: float64"
     },
     "execution_count": 16,
     "metadata": {},
     "output_type": "execute_result"
    }
   ],
   "source": [
    "coeficiente= (np.std(df))/(np.mean(df))\n",
    "coeficiente"
   ]
  },
  {
   "cell_type": "code",
   "execution_count": null,
   "metadata": {},
   "outputs": [],
   "source": []
  }
 ]
}