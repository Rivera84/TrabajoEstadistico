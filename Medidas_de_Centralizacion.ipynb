{
 "nbformat": 4,
 "nbformat_minor": 2,
 "metadata": {
  "language_info": {
   "name": "python",
   "codemirror_mode": {
    "name": "ipython",
    "version": 3
   },
   "version": "3.8.1-final"
  },
  "orig_nbformat": 2,
  "file_extension": ".py",
  "mimetype": "text/x-python",
  "name": "python",
  "npconvert_exporter": "python",
  "pygments_lexer": "ipython3",
  "version": 3,
  "kernelspec": {
   "name": "python38132bitf9170dd6138a44f280fe8b19167f5fc9",
   "display_name": "Python 3.8.1 32-bit"
  }
 },
 "cells": [
  {
   "cell_type": "markdown",
   "metadata": {},
   "source": [
    "# Medidas de Centralizacion"
   ]
  },
  {
   "cell_type": "markdown",
   "metadata": {},
   "source": [
    "# Media Aritmetica\n",
    "\n",
    "Que es?\n",
    "La media aritmética es el valor obtenido al sumar todos los datos y dividir\n",
    "el resultado entre el número total de datos.\n",
    "x es el símbolo de la media aritmética.\n",
    "\n",
    " \n",
    "\n"
   ]
  },
  {
   "cell_type": "markdown",
   "metadata": {},
   "source": [
    "Formula:\n",
    "<img src=https://www.superprof.es/apuntes/wp-content/uploads/2019/05/media-aritmetica-calculo-2.gif>"
   ]
  },
  {
   "cell_type": "markdown",
   "metadata": {},
   "source": [
    "# Ejemplo:\n",
    "\n",
    "Los pesos de seis amigos son: 84, 91, 72, 68, 87 y 78 kg.\n",
    "\n",
    " \n",
    "\n",
    "Hallar el peso medio.\n",
    "\n",
    " \n",
    "\n",
    "ejemplo de media aritmetica\n",
    "\n",
    "<img src=\"https://www.superprof.es/apuntes/wp-content/uploads/2019/05/media-aritmetica-calculo-4.gif\">\n"
   ]
  },
  {
   "cell_type": "code",
   "execution_count": 2,
   "metadata": {},
   "outputs": [
    {
     "data": {
      "text/plain": "2.5"
     },
     "execution_count": 2,
     "metadata": {},
     "output_type": "execute_result"
    }
   ],
   "source": [
    "def Media_Aritmetica(numero_lista):\n",
    "    return sum(numero_lista)/len(numero_lista)\n",
    "\n",
    "numero_lista=[1,2,3,4]\n",
    "\n",
    "Media_Aritmetica(numero_lista)\n",
    "\n"
   ]
  },
  {
   "cell_type": "code",
   "execution_count": 32,
   "metadata": {},
   "outputs": [],
   "source": [
    "import numpy as np\n",
    "import pandas as pd\n",
    "import statistics\n",
    "import scipy.stats as stat"
   ]
  },
  {
   "cell_type": "code",
   "execution_count": 4,
   "metadata": {},
   "outputs": [],
   "source": [
    "def random_num(num_inicial,num_final):\n",
    "    c=0\n",
    "    data=[]\n",
    "    while c<=100000:\n",
    "        \n",
    "        data.append(np.random.randint(num_inicial,num_final))\n",
    "        data1= {\"Edad\":data}\n",
    "        c+=1\n",
    "    return data1"
   ]
  },
  {
   "cell_type": "code",
   "execution_count": 5,
   "metadata": {},
   "outputs": [],
   "source": [
    "#print(random_num(18,60))"
   ]
  },
  {
   "cell_type": "code",
   "execution_count": 6,
   "metadata": {},
   "outputs": [],
   "source": [
    "df= pd.DataFrame(random_num(18,60))"
   ]
  },
  {
   "cell_type": "code",
   "execution_count": 7,
   "metadata": {},
   "outputs": [
    {
     "data": {
      "text/html": "<div>\n<style scoped>\n    .dataframe tbody tr th:only-of-type {\n        vertical-align: middle;\n    }\n\n    .dataframe tbody tr th {\n        vertical-align: top;\n    }\n\n    .dataframe thead th {\n        text-align: right;\n    }\n</style>\n<table border=\"1\" class=\"dataframe\">\n  <thead>\n    <tr style=\"text-align: right;\">\n      <th></th>\n      <th>Edad</th>\n    </tr>\n  </thead>\n  <tbody>\n    <tr>\n      <th>0</th>\n      <td>52</td>\n    </tr>\n    <tr>\n      <th>1</th>\n      <td>32</td>\n    </tr>\n    <tr>\n      <th>2</th>\n      <td>56</td>\n    </tr>\n    <tr>\n      <th>3</th>\n      <td>23</td>\n    </tr>\n    <tr>\n      <th>4</th>\n      <td>20</td>\n    </tr>\n  </tbody>\n</table>\n</div>",
      "text/plain": "   Edad\n0    52\n1    32\n2    56\n3    23\n4    20"
     },
     "execution_count": 7,
     "metadata": {},
     "output_type": "execute_result"
    }
   ],
   "source": [
    "df.head()"
   ]
  },
  {
   "cell_type": "code",
   "execution_count": 14,
   "metadata": {},
   "outputs": [
    {
     "data": {
      "text/plain": "Edad    38.461675\ndtype: float64"
     },
     "execution_count": 14,
     "metadata": {},
     "output_type": "execute_result"
    }
   ],
   "source": [
    "#Utilizando la biblioteca statistics\n",
    "Edad= df['Edad']\n",
    "statistics.mean(Edad)\n",
    "statistics.fmean(Edad) #Genera la media con datos float\n",
    "#Biblioteca numpy\n",
    "np.mean(Edad)\n",
    "\n",
    "df.mean(axis=1) # media aritmetica de cada fila\n",
    "df.mean(axis=0) # media aritmetica de cada columna"
   ]
  },
  {
   "cell_type": "markdown",
   "metadata": {},
   "source": [
    "# Mediana\n",
    "\n",
    "Que es?  La mediana representa el valor de la variable de posición central en un conjunto de datos ordenados. \n",
    "\n",
    "Formula: Mediana = (n+1) / 2 "
   ]
  },
  {
   "cell_type": "code",
   "execution_count": 16,
   "metadata": {},
   "outputs": [
    {
     "data": {
      "text/plain": "array([38.])"
     },
     "execution_count": 16,
     "metadata": {},
     "output_type": "execute_result"
    }
   ],
   "source": [
    "statistics.median(Edad) #mediana de un conjunto de datos\n",
    "statistics.median_low(Edad) #Baja mediana de un conjunto de datos\n",
    "statistics.median_high(Edad) #Alta mediana de un conjunto de datos\n",
    "np.median(Edad)\n",
    "np.median(df, 0) # media aritmetica de cada columna"
   ]
  },
  {
   "cell_type": "markdown",
   "metadata": {},
   "source": [
    "# Moda\n",
    "\n",
    "Que es? Es el valor que se repite mas veces en un conjunto de daatos\n"
   ]
  },
  {
   "cell_type": "code",
   "execution_count": 33,
   "metadata": {},
   "outputs": [
    {
     "data": {
      "text/plain": "ModeResult(mode=array([[25]], dtype=int64), count=array([[2506]]))"
     },
     "execution_count": 33,
     "metadata": {},
     "output_type": "execute_result"
    }
   ],
   "source": [
    "statistics.mode(Edad)\n",
    "stat.mode(df) # Calcula la moda de cada columna\n",
    "# el 2do array devuelve la frecuencia.\n"
   ]
  },
  {
   "cell_type": "markdown",
   "metadata": {},
   "source": [
    "# Percentil\n",
    "\n",
    "Que es? El percentil es una medida de posición usada en estadística que indica, una vez ordenados los datos de menor a mayor, el valor de la variable por debajo del cual se encuentra un porcentaje dado de observaciones en un grupo. Por ejemplo, el percentil 20.º es el valor bajo el cual se encuentran el 20 por ciento de las observaciones.\n",
    "\n",
    "Formula:\n",
    "<img src=\"https://wikimedia.org/api/rest_v1/media/math/render/svg/08a1a01d551abc3eb3c2f178a2fc4a8462160d32\">\n",
    "\n"
   ]
  },
  {
   "cell_type": "code",
   "execution_count": 11,
   "metadata": {},
   "outputs": [
    {
     "data": {
      "text/plain": "38.0"
     },
     "execution_count": 11,
     "metadata": {},
     "output_type": "execute_result"
    }
   ],
   "source": [
    "statistics.median_grouped(Edad) #Mediana, o percentil 50, de los datos agrupados.\n",
    "np.percentile(Edad,50)\n"
   ]
  },
  {
   "cell_type": "code",
   "execution_count": null,
   "metadata": {},
   "outputs": [],
   "source": []
  },
  {
   "cell_type": "code",
   "execution_count": null,
   "metadata": {},
   "outputs": [],
   "source": []
  },
  {
   "cell_type": "code",
   "execution_count": null,
   "metadata": {},
   "outputs": [],
   "source": []
  },
  {
   "cell_type": "code",
   "execution_count": null,
   "metadata": {},
   "outputs": [],
   "source": []
  }
 ]
}