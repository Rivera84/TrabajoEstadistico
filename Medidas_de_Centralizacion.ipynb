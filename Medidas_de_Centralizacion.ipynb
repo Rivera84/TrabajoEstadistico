{
 "nbformat": 4,
 "nbformat_minor": 2,
 "metadata": {
  "language_info": {
   "name": "python",
   "codemirror_mode": {
    "name": "ipython",
    "version": 3
   },
   "version": "3.8.1-final"
  },
  "orig_nbformat": 2,
  "file_extension": ".py",
  "mimetype": "text/x-python",
  "name": "python",
  "npconvert_exporter": "python",
  "pygments_lexer": "ipython3",
  "version": 3,
  "kernelspec": {
   "name": "python38132bitf9170dd6138a44f280fe8b19167f5fc9",
   "display_name": "Python 3.8.1 32-bit"
  }
 },
 "cells": [
  {
   "cell_type": "markdown",
   "metadata": {},
   "source": [
    "# Medidas de Centralizacion"
   ]
  },
  {
   "cell_type": "markdown",
   "metadata": {},
   "source": [
    "Media Aritmetica\n",
    "\n",
    "Que es?\n",
    "La media aritmética es el valor obtenido al sumar todos los datos y dividir\n",
    "el resultado entre el número total de datos.\n",
    "x es el símbolo de la media aritmética.\n",
    "\n",
    " \n",
    "\n"
   ]
  },
  {
   "cell_type": "markdown",
   "metadata": {},
   "source": [
    "Formula:\n",
    "<img src=https://www.superprof.es/apuntes/wp-content/uploads/2019/05/media-aritmetica-calculo-2.gif>"
   ]
  },
  {
   "cell_type": "markdown",
   "metadata": {},
   "source": [
    "# Ejemplo:\n",
    "\n",
    "Los pesos de seis amigos son: 84, 91, 72, 68, 87 y 78 kg.\n",
    "\n",
    " \n",
    "\n",
    "Hallar el peso medio.\n",
    "\n",
    " \n",
    "\n",
    "ejemplo de media aritmetica\n",
    "\n",
    "<img src=\"https://www.superprof.es/apuntes/wp-content/uploads/2019/05/media-aritmetica-calculo-4.gif\">\n"
   ]
  },
  {
   "cell_type": "code",
   "execution_count": 1,
   "metadata": {},
   "outputs": [
    {
     "data": {
      "text/plain": "2.5"
     },
     "execution_count": 1,
     "metadata": {},
     "output_type": "execute_result"
    }
   ],
   "source": [
    "def Media_Aritmetica(numero_lista):\n",
    "    return sum(numero_lista)/len(numero_lista)\n",
    "\n",
    "numero_lista=[1,2,3,4]\n",
    "\n",
    "Media_Aritmetica(numero_lista)\n",
    "\n"
   ]
  },
  {
   "cell_type": "code",
   "execution_count": null,
   "metadata": {},
   "outputs": [],
   "source": []
  }
 ]
}